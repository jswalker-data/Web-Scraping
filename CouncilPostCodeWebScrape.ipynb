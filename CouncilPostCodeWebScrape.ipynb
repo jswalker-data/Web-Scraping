{
 "cells": [
  {
   "cell_type": "markdown",
   "metadata": {},
   "source": [
    "## Web Scrape"
   ]
  },
  {
   "cell_type": "code",
   "execution_count": 1,
   "metadata": {},
   "outputs": [],
   "source": [
    "import pandas as pd\n",
    "from selenium import webdriver\n",
    "from selenium.webdriver.chrome.service import Service\n",
    "from selenium.webdriver.common.by import By\n",
    "from selenium.webdriver.support.ui import WebDriverWait\n",
    "from selenium.webdriver.support import expected_conditions as EC\n",
    "from webdriver_manager.chrome import ChromeDriverManager\n",
    "from selenium.common.exceptions import NoSuchElementException\n",
    "import time\n",
    "import os"
   ]
  },
  {
   "cell_type": "code",
   "execution_count": 2,
   "metadata": {},
   "outputs": [],
   "source": [
    "Iteration = \"\\postcodesNo\"\n",
    "\n",
    "df_postcodes = pd.read_excel('C:\\Files\\Code\\CouncilDatascrape'+Iteration+'.xlsx')\n"
   ]
  },
  {
   "cell_type": "code",
   "execution_count": 3,
   "metadata": {},
   "outputs": [
    {
     "data": {
      "text/html": [
       "<div>\n",
       "<style scoped>\n",
       "    .dataframe tbody tr th:only-of-type {\n",
       "        vertical-align: middle;\n",
       "    }\n",
       "\n",
       "    .dataframe tbody tr th {\n",
       "        vertical-align: top;\n",
       "    }\n",
       "\n",
       "    .dataframe thead th {\n",
       "        text-align: right;\n",
       "    }\n",
       "</style>\n",
       "<table border=\"1\" class=\"dataframe\">\n",
       "  <thead>\n",
       "    <tr style=\"text-align: right;\">\n",
       "      <th></th>\n",
       "      <th>Postcodes</th>\n",
       "    </tr>\n",
       "  </thead>\n",
       "  <tbody>\n",
       "    <tr>\n",
       "      <th>0</th>\n",
       "      <td>SE25 5AQ</td>\n",
       "    </tr>\n",
       "    <tr>\n",
       "      <th>1</th>\n",
       "      <td>SW17 9HW</td>\n",
       "    </tr>\n",
       "    <tr>\n",
       "      <th>2</th>\n",
       "      <td>SE1 7TN</td>\n",
       "    </tr>\n",
       "    <tr>\n",
       "      <th>3</th>\n",
       "      <td>SE8 5SQ</td>\n",
       "    </tr>\n",
       "    <tr>\n",
       "      <th>4</th>\n",
       "      <td>SE1 8RL</td>\n",
       "    </tr>\n",
       "    <tr>\n",
       "      <th>...</th>\n",
       "      <td>...</td>\n",
       "    </tr>\n",
       "    <tr>\n",
       "      <th>102</th>\n",
       "      <td>SR2 7SN</td>\n",
       "    </tr>\n",
       "    <tr>\n",
       "      <th>103</th>\n",
       "      <td>DH4 6AA</td>\n",
       "    </tr>\n",
       "    <tr>\n",
       "      <th>104</th>\n",
       "      <td>S35 2UX</td>\n",
       "    </tr>\n",
       "    <tr>\n",
       "      <th>105</th>\n",
       "      <td>LS11 9DG</td>\n",
       "    </tr>\n",
       "    <tr>\n",
       "      <th>106</th>\n",
       "      <td>WF2 9RT</td>\n",
       "    </tr>\n",
       "  </tbody>\n",
       "</table>\n",
       "<p>107 rows × 1 columns</p>\n",
       "</div>"
      ],
      "text/plain": [
       "    Postcodes\n",
       "0    SE25 5AQ\n",
       "1    SW17 9HW\n",
       "2     SE1 7TN\n",
       "3     SE8 5SQ\n",
       "4     SE1 8RL\n",
       "..        ...\n",
       "102   SR2 7SN\n",
       "103   DH4 6AA\n",
       "104   S35 2UX\n",
       "105  LS11 9DG\n",
       "106   WF2 9RT\n",
       "\n",
       "[107 rows x 1 columns]"
      ]
     },
     "execution_count": 3,
     "metadata": {},
     "output_type": "execute_result"
    }
   ],
   "source": [
    "df_postcodes"
   ]
  },
  {
   "cell_type": "code",
   "execution_count": 4,
   "metadata": {},
   "outputs": [],
   "source": [
    "#initialise chrome driver manager to pass through webdriver\n",
    "service = Service(ChromeDriverManager().install())"
   ]
  },
  {
   "cell_type": "code",
   "execution_count": 5,
   "metadata": {},
   "outputs": [],
   "source": [
    "#create function that passes a postcose string item\n",
    "def return_authority(postcode):\n",
    "\n",
    "    #Create instance of chrome ad driver and then apply functions before quitting driver\n",
    "    with webdriver.Chrome(service=service) as driver:\n",
    "        driver.get(\"https://www.gov.uk/find-local-council\")\n",
    "\n",
    "        #Locate the search box and input what is being passed as postcode\n",
    "        input_element = WebDriverWait(driver, 5).until(EC.presence_of_element_located((By.XPATH, '//input[@id=\"postcode\"]')))\n",
    "        input_element.send_keys(postcode)\n",
    "\n",
    "        #Locate and click search button\n",
    "        button_element = WebDriverWait(driver,5).until(EC.presence_of_element_located((By.XPATH, '//button[@class=\"gem-c-button govuk-button gem-c-button--bottom-margin\"]')))\n",
    "        button_element.click()\n",
    "\n",
    "        #There are 3 main instances that can occur here, London returns a single borough, so easy to locate. Regions return county and borough council\n",
    "        #and these occupy the same h2 path loction, with a differential of the div path.\n",
    "        #N.B I know nothing about CSS so do not truley understand what is happening here\n",
    "        #Third option is that the postcode isn't real so will stay on the same page and show an error message\n",
    "        #I am using an error cascade to identify these conditions as the div location of the london borough is different to that of regional borough and returning a series of \n",
    "        #two strings, with combinations of borough council, county council and \"N/A\" or no postcode where applicable\n",
    "\n",
    "        #Initial try assumes regional and identifies county and borough council\n",
    "        try: \n",
    "\n",
    "            #Locate object and return text\n",
    "            county_council = WebDriverWait(driver,5).until(EC.presence_of_element_located((By.XPATH, '//h3[@class=\"gem-c-heading govuk-heading-m\"]')))\n",
    "            county_council = county_council.text\n",
    "\n",
    "            #For borough we need to identify multiple levels. Again, for reasons i do not know (do not know CSS), this join returns the whole papragraph for borough council and\n",
    "            #the county council. So select first item in the object array, return text (the whole paragraph) and take first line\n",
    "            borough_council = WebDriverWait(driver,5).until(\n",
    "                    EC.all_of(\n",
    "                        EC.presence_of_element_located((By.XPATH, '//div[@class=\"district-result group\"]')),\n",
    "                        EC.presence_of_element_located((By.XPATH, '//h3[@class=\"gem-c-heading govuk-heading-m\"]'))))\n",
    "            \n",
    "            borough_council = borough_council[0].text.splitlines()[0]\n",
    "\n",
    "            #Returning both fo these in this instance\n",
    "            return pd.Series([borough_council, county_council])\n",
    "\n",
    "        #When the xpath is unable to be found we move to this section\n",
    "        except Exception:\n",
    "            \n",
    "            #Trying the london borough return\n",
    "            try:\n",
    "\n",
    "                #identify and return the longer string for this instance, returning only what is after the is in \"Your local authority is....\"\n",
    "                london_council = WebDriverWait(driver,5).until(EC.presence_of_element_located((By.XPATH, '//div[@class=\"unitary-result group\"]')))\n",
    "                london_council = london_council.text.splitlines()[0].split(\"is \", 1)[1].split(\".\", 1)[0]\n",
    "                return pd.Series([london_council, \"N/A\"])\n",
    "\n",
    "            except:\n",
    "                #If none of these are met then it is and error and we return as such\n",
    "                return pd.Series([\"Not a postcode\", \"Not a postcode\"])\n",
    "\n",
    "        driver.quit()"
   ]
  },
  {
   "cell_type": "code",
   "execution_count": 6,
   "metadata": {},
   "outputs": [],
   "source": [
    "df_postcodes[['Borough', 'County']] = df_postcodes['Postcodes'].apply(return_authority)"
   ]
  },
  {
   "cell_type": "code",
   "execution_count": 7,
   "metadata": {},
   "outputs": [],
   "source": [
    "df_postcodes.to_excel(r'C:\\Files\\Code\\CouncilDatascrape'+ Iteration + 'Authority.xlsx', index=False)"
   ]
  },
  {
   "cell_type": "code",
   "execution_count": null,
   "metadata": {},
   "outputs": [],
   "source": []
  }
 ],
 "metadata": {
  "kernelspec": {
   "display_name": "base",
   "language": "python",
   "name": "python3"
  },
  "language_info": {
   "codemirror_mode": {
    "name": "ipython",
    "version": 3
   },
   "file_extension": ".py",
   "mimetype": "text/x-python",
   "name": "python",
   "nbconvert_exporter": "python",
   "pygments_lexer": "ipython3",
   "version": "3.9.18"
  },
  "orig_nbformat": 4
 },
 "nbformat": 4,
 "nbformat_minor": 2
}
